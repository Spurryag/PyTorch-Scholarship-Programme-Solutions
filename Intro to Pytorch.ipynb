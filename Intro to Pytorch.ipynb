{
 "cells": [
  {
   "cell_type": "code",
   "execution_count": 1,
   "metadata": {},
   "outputs": [],
   "source": [
    "#Source: https://github.com/udacity/deep-learning-v2-pytorch/blob/master/intro-to-pytorch/Part%201%20-%20Tensors%20in%20PyTorch%20(Exercises).ipynb\n",
    "#import pytorch library\n",
    "import torch"
   ]
  },
  {
   "cell_type": "code",
   "execution_count": 2,
   "metadata": {},
   "outputs": [],
   "source": [
    "#Define the sigmoid activtion function\n",
    "def activation(x):\n",
    "    \"\"\" Sigmoid activation function \n",
    "    \n",
    "        Arguments\n",
    "        ---------\n",
    "        x: torch.Tensor\n",
    "    \"\"\"\n",
    "    return 1/(1+torch.exp(-x))"
   ]
  },
  {
   "cell_type": "code",
   "execution_count": 3,
   "metadata": {},
   "outputs": [],
   "source": [
    "### Generate some data\n",
    "torch.manual_seed(7) # Set the random seed so things are predictable\n",
    "\n",
    "# Features are 3 random normal variables\n",
    "features = torch.randn((1, 5))\n",
    "\n",
    "##creates a tensor with shape (1, 5), one row and five columns, \n",
    "##that contains values randomly distributed according to the normal distribution \n",
    "##with a mean of zero and standard deviation of one.\n",
    "\n",
    "# True weights for our data, random normal variables again\n",
    "weights = torch.randn_like(features)\n",
    "# and a true bias term\n",
    "bias = torch.randn((1, 1))"
   ]
  },
  {
   "cell_type": "code",
   "execution_count": 4,
   "metadata": {},
   "outputs": [
    {
     "data": {
      "text/plain": [
       "torch.Size([1, 5])"
      ]
     },
     "execution_count": 4,
     "metadata": {},
     "output_type": "execute_result"
    }
   ],
   "source": [
    "#investigate the shape of tensor\n",
    "features.shape\n"
   ]
  },
  {
   "cell_type": "code",
   "execution_count": 5,
   "metadata": {},
   "outputs": [
    {
     "data": {
      "text/plain": [
       "tensor([[-0.8948],\n",
       "        [-0.3556],\n",
       "        [ 1.2324],\n",
       "        [ 0.1382],\n",
       "        [-1.6822]])"
      ]
     },
     "execution_count": 5,
     "metadata": {},
     "output_type": "execute_result"
    }
   ],
   "source": [
    "# weights.view(a, b) will return a new tensor with the same data as weights with size (a, b).\n",
    "weights.view(5,1)\n",
    "\n",
    "\n",
    "#weights.reshape(a, b) will return a new tensor with the same data as weights with size (a, b) \n",
    "#sometimes, and sometimes a clone, as in it copies the data to another part of memory.\n",
    "\n",
    "#weights.resize_(a, b) returns the same tensor with a different shape. \n",
    "#However, if the new shape results in fewer elements than the original tensor, \n",
    "#some elements will be removed from the tensor (but not from memory). \n",
    "#If the new shape results in more elements than the original tensor, new elements will be uninitialized in memory. \n",
    "#Here I should note that the underscore at the end of the method denotes that this method is performed in-place. \n"
   ]
  },
  {
   "cell_type": "code",
   "execution_count": 6,
   "metadata": {},
   "outputs": [],
   "source": [
    "## Calculate the output of this network using the weights and bias tensors\n",
    "\n",
    "#To calculate the output of the network:\n",
    "#Take the inputs and multiply by the weights before adding the bias \n",
    "#and using the activation funciton to transform the latter\n",
    "\n",
    "def output(features, weights, bias): \n",
    "    #use matrix multiplication to weight features\n",
    "    result = torch.matmul(features, weights.view(5,1))\n",
    "    #add the bias\n",
    "    result1 = bias + result\n",
    "    #transform the result using the sigmoid activation function\n",
    "    trans = activation(result1)\n",
    "    return(trans)"
   ]
  },
  {
   "cell_type": "code",
   "execution_count": 7,
   "metadata": {},
   "outputs": [
    {
     "data": {
      "text/plain": [
       "tensor([[0.1595]])"
      ]
     },
     "execution_count": 7,
     "metadata": {},
     "output_type": "execute_result"
    }
   ],
   "source": [
    "#result of output function\n",
    "output(features, weights, bias)"
   ]
  },
  {
   "cell_type": "code",
   "execution_count": 8,
   "metadata": {},
   "outputs": [
    {
     "name": "stdout",
     "output_type": "stream",
     "text": [
      "tensor([[0.1595]])\n"
     ]
    }
   ],
   "source": [
    "#Sameple solution - logic and answer aligns \n",
    "y = activation((features * weights).sum() + bias)\n",
    "print(y)"
   ]
  },
  {
   "cell_type": "code",
   "execution_count": 9,
   "metadata": {},
   "outputs": [],
   "source": [
    "### Generate some data\n",
    "torch.manual_seed(7) # Set the random seed so things are predictable\n",
    "\n",
    "# Features are 3 random normal variables\n",
    "features = torch.randn((1, 3))\n",
    "\n",
    "# Define the size of each layer in our network\n",
    "n_input = features.shape[1]     # Number of input units, must match number of input features\n",
    "n_hidden = 2                    # Number of hidden units \n",
    "n_output = 1                    # Number of output units\n",
    "\n",
    "# Weights for inputs to hidden layer\n",
    "W1 = torch.randn(n_input, n_hidden)\n",
    "# Weights for hidden layer to output layer\n",
    "W2 = torch.randn(n_hidden, n_output)\n",
    "\n",
    "# and bias terms for hidden and output layers\n",
    "B1 = torch.randn((1, n_hidden))\n",
    "B2 = torch.randn((1, n_output))"
   ]
  },
  {
   "cell_type": "code",
   "execution_count": 12,
   "metadata": {},
   "outputs": [
    {
     "name": "stdout",
     "output_type": "stream",
     "text": [
      "tensor([[0.3171]])\n"
     ]
    }
   ],
   "source": [
    "#Calculate the output of the above multi layer network\n",
    "\n",
    "#The basic principle is to weigh the inputs and add the bias before transforming using the activation function\n",
    "\n",
    "#Run from input layer to the hidden layer \n",
    "resulting1 = activation(torch.mm(features, W1) +B1)\n",
    "##The weights matrix W1 already accoutns for the 2 hidden nodes                        \n",
    "                        \n",
    "#run the above node outout through the hidden to the output layer                         \n",
    "resulting2 = activation(torch.mm(resulting1,W2)+B2)\n",
    "\n",
    "#Print the transformed output\n",
    "print(resulting2) #-> Correct! "
   ]
  },
  {
   "cell_type": "code",
   "execution_count": 11,
   "metadata": {},
   "outputs": [
    {
     "name": "stdout",
     "output_type": "stream",
     "text": [
      "tensor([[0.3171]])\n"
     ]
    }
   ],
   "source": [
    "#Sample Solution\n",
    "h = activation(torch.mm(features, W1) + B1)\n",
    "output = activation(torch.mm(h, W2) + B2)\n",
    "print(output)"
   ]
  },
  {
   "cell_type": "code",
   "execution_count": null,
   "metadata": {},
   "outputs": [],
   "source": []
  }
 ],
 "metadata": {
  "kernelspec": {
   "display_name": "Python 3",
   "language": "python",
   "name": "python3"
  },
  "language_info": {
   "codemirror_mode": {
    "name": "ipython",
    "version": 3
   },
   "file_extension": ".py",
   "mimetype": "text/x-python",
   "name": "python",
   "nbconvert_exporter": "python",
   "pygments_lexer": "ipython3",
   "version": "3.7.0"
  }
 },
 "nbformat": 4,
 "nbformat_minor": 2
}
